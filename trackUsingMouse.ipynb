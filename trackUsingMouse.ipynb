{
 "cells": [
  {
   "cell_type": "code",
   "execution_count": 7,
   "metadata": {},
   "outputs": [],
   "source": [
    "import tracking as trk\n",
    "\n",
    "#trk.fijiCmd='/Applications/Fiji.app/Contents/MacOS/ImageJ-macosx'\n",
    "trk.fijiCmd='C:/Program Files/Fiji.app/ImageJ-win64.exe'"
   ]
  },
  {
   "cell_type": "markdown",
   "metadata": {},
   "source": [
    "## Manual tracking\n",
    "\n",
    "1. The TIF is played in fiji and the user has to follow the spot of interest with the mouse. A .mtrk file is created.\n",
    "2. Spots are detected using a s.d. threshold on a bandpass filtered image. The ROI is centered on the position of the mouse. The detected spot that is the closest to both the mouse position and the previous found spot is selected.\n",
    "3. Uses the iterative Gaussian mask fitting algorithm the localize and fit the spot.\n",
    "\n",
    "Parameters of the `trackUsingMouse()` function:\n",
    "- __`fnTif`__:         Full path of the TIF file to be tracked.\n",
    "- __`fnSuff`__:        Suffix added at the end of the TIF file name for the resulting .mtrk and .trk files.\n",
    "- __`fps`__:           Frame rate at which the movie is played during the manual tracking. If set to 0, the movie has to be played manually (e.g. with right/left arrows or with the mouse wheel). When going back and forth, only the last time a frame is played counts. If set to < 0, fiji macro will not be run so that the existing .mtrk file is re-used. (Default: 10.)\n",
    "- `psfPx`:         PSF size in pixels. Used for the bandpass filtering. (Default: 1.7)\n",
    "- __`thresholdSD`__:   Number of standard deviations used to detect objects in the bandpassed image. (Default: 5.)\n",
    "- `roiSize`:       Size in pixels of the ROI. (Default: 40)\n",
    "- `border`:        Number of pixels added one each side of the ROI in the bandpass filtering and removed afterwards. (Default: 3)\n",
    "- __`distThreshold`__: Maximal distance that the TS can be from the position of the mouse. Used for both object detection in the bandpassed-filtered image and for testing the convergence of the Gaussian fit algorithm. (Default: 20.)\n",
    "- `trackMemory`:   Maximal number of frames used for the location of the previous spot. If 0, only the distance to the mouse coordinates is used. (Default: 0)\n",
    "- `reactionDelay`: Time delay (in sec) by which the manual coordinates are expected to be lagging. (Default: 0.)\n",
    "- __`disp`__:          If 1, the result of the tracking is displayed as graphs. If 2, a ..._track.if file is created for visual inspection. Can be combined; e.g. disp=1+2. (Default: 1)"
   ]
  },
  {
   "cell_type": "code",
   "execution_count": 8,
   "metadata": {
    "scrolled": false
   },
   "outputs": [
    {
     "name": "stdout",
     "output_type": "stream",
     "text": [
      "Error when renaming mtrk file.\n",
      " => Please delete 'D:/LORENA/CoulonLab Dropbox/data/Lorena/Chr1/190716/Analysis_2h/MAX_190716_dCas9m4JF549_sgRNA433_2-1-14_s2.*' files manually.\n"
     ]
    },
    {
     "ename": "FileNotFoundError",
     "evalue": "[WinError 2] Le fichier spécifié est introuvable: 'D:/LORENA/CoulonLab Dropbox/data/Lorena/Chr1/190716/Analysis_2h/MAX_190716_dCas9m4JF549_sgRNA433_2-1-14_s2.txt' -> 'D:/LORENA/CoulonLab Dropbox/data/Lorena/Chr1/190716/Analysis_2h/MAX_190716_dCas9m4JF549_sgRNA433_2-1-14_s2.mtrk'",
     "output_type": "error",
     "traceback": [
      "\u001b[1;31m---------------------------------------------------------------------------\u001b[0m",
      "\u001b[1;31mFileNotFoundError\u001b[0m                         Traceback (most recent call last)",
      "\u001b[1;32m<ipython-input-8-cb77d3370290>\u001b[0m in \u001b[0;36m<module>\u001b[1;34m\u001b[0m\n\u001b[0;32m      1\u001b[0m \u001b[0mbasePath\u001b[0m\u001b[1;33m=\u001b[0m\u001b[1;34m'D:/LORENA/CoulonLab Dropbox/data/Lorena/Chr1/190716/Analysis_2h/'\u001b[0m\u001b[1;33m\u001b[0m\u001b[1;33m\u001b[0m\u001b[0m\n\u001b[0;32m      2\u001b[0m \u001b[1;33m\u001b[0m\u001b[0m\n\u001b[1;32m----> 3\u001b[1;33m \u001b[0mtrk\u001b[0m\u001b[1;33m.\u001b[0m\u001b[0mtrackUsingMouse\u001b[0m\u001b[1;33m(\u001b[0m\u001b[0mbasePath\u001b[0m\u001b[1;33m+\u001b[0m\u001b[1;34m'MAX_190716_dCas9m4JF549_sgRNA433_2-1-14.tif'\u001b[0m\u001b[1;33m,\u001b[0m\u001b[1;34m'_s2'\u001b[0m\u001b[1;33m,\u001b[0m\u001b[0mfps\u001b[0m\u001b[1;33m=\u001b[0m\u001b[1;36m0\u001b[0m\u001b[1;33m,\u001b[0m\u001b[0mdisp\u001b[0m\u001b[1;33m=\u001b[0m\u001b[1;36m3\u001b[0m\u001b[1;33m)\u001b[0m\u001b[1;33m\u001b[0m\u001b[1;33m\u001b[0m\u001b[0m\n\u001b[0m",
      "\u001b[1;32m~\\Desktop\\trackingUsingMouse\\tracking.py\u001b[0m in \u001b[0;36mtrackUsingMouse\u001b[1;34m(fnTif, fnSuff, fps, psfPx, thresholdSD, roiSize, border, distThreshold, trackMemory, reactionDelay, disp)\u001b[0m\n\u001b[0;32m    148\u001b[0m     \u001b[0mopen\u001b[0m\u001b[1;33m(\u001b[0m\u001b[1;34m'.tmp_trackUsingMouse.ijm'\u001b[0m\u001b[1;33m,\u001b[0m\u001b[1;34m'w'\u001b[0m\u001b[1;33m)\u001b[0m\u001b[1;33m.\u001b[0m\u001b[0mwritelines\u001b[0m\u001b[1;33m(\u001b[0m\u001b[1;33m[\u001b[0m\u001b[0mmacro\u001b[0m\u001b[1;33m]\u001b[0m\u001b[1;33m)\u001b[0m\u001b[1;33m\u001b[0m\u001b[1;33m\u001b[0m\u001b[0m\n\u001b[0;32m    149\u001b[0m     \u001b[0mos\u001b[0m\u001b[1;33m.\u001b[0m\u001b[0msystem\u001b[0m\u001b[1;33m(\u001b[0m\u001b[0mfijiCmd\u001b[0m\u001b[1;33m+\u001b[0m\u001b[1;34m\"\"\" -macro .tmp_trackUsingMouse.ijm\"\"\"\u001b[0m\u001b[1;33m)\u001b[0m\u001b[1;33m\u001b[0m\u001b[1;33m\u001b[0m\u001b[0m\n\u001b[1;32m--> 150\u001b[1;33m     \u001b[1;32mtry\u001b[0m\u001b[1;33m:\u001b[0m \u001b[0mos\u001b[0m\u001b[1;33m.\u001b[0m\u001b[0mrename\u001b[0m\u001b[1;33m(\u001b[0m\u001b[0mfnTif\u001b[0m\u001b[1;33m[\u001b[0m\u001b[1;33m:\u001b[0m\u001b[1;33m-\u001b[0m\u001b[1;36m4\u001b[0m\u001b[1;33m]\u001b[0m\u001b[1;33m+\u001b[0m\u001b[0mfnSuff\u001b[0m\u001b[1;33m+\u001b[0m\u001b[1;34m'.txt'\u001b[0m\u001b[1;33m,\u001b[0m\u001b[0mfnTif\u001b[0m\u001b[1;33m[\u001b[0m\u001b[1;33m:\u001b[0m\u001b[1;33m-\u001b[0m\u001b[1;36m4\u001b[0m\u001b[1;33m]\u001b[0m\u001b[1;33m+\u001b[0m\u001b[0mfnSuff\u001b[0m\u001b[1;33m+\u001b[0m\u001b[1;34m'.mtrk'\u001b[0m\u001b[1;33m)\u001b[0m\u001b[1;33m\u001b[0m\u001b[1;33m\u001b[0m\u001b[0m\n\u001b[0m\u001b[0;32m    151\u001b[0m     \u001b[1;32mexcept\u001b[0m\u001b[1;33m:\u001b[0m\u001b[1;33m\u001b[0m\u001b[1;33m\u001b[0m\u001b[0m\n\u001b[0;32m    152\u001b[0m         \u001b[0mprint\u001b[0m\u001b[1;33m(\u001b[0m\u001b[1;34m\"Error when renaming mtrk file.\\n => Please delete '%s.*' files manually.\"\u001b[0m\u001b[1;33m%\u001b[0m\u001b[1;33m(\u001b[0m\u001b[0mfnTif\u001b[0m\u001b[1;33m[\u001b[0m\u001b[1;33m:\u001b[0m\u001b[1;33m-\u001b[0m\u001b[1;36m4\u001b[0m\u001b[1;33m]\u001b[0m\u001b[1;33m+\u001b[0m\u001b[0mfnSuff\u001b[0m\u001b[1;33m)\u001b[0m\u001b[1;33m)\u001b[0m\u001b[1;33m\u001b[0m\u001b[1;33m\u001b[0m\u001b[0m\n",
      "\u001b[1;31mFileNotFoundError\u001b[0m: [WinError 2] Le fichier spécifié est introuvable: 'D:/LORENA/CoulonLab Dropbox/data/Lorena/Chr1/190716/Analysis_2h/MAX_190716_dCas9m4JF549_sgRNA433_2-1-14_s2.txt' -> 'D:/LORENA/CoulonLab Dropbox/data/Lorena/Chr1/190716/Analysis_2h/MAX_190716_dCas9m4JF549_sgRNA433_2-1-14_s2.mtrk'"
     ]
    }
   ],
   "source": [
    "basePath='D:/LORENA/CoulonLab Dropbox/data/Lorena/Chr1/190716/Analysis_2h/'\n",
    "\n",
    "trk.trackUsingMouse(basePath+'MAX_190716_dCas9m4JF549_sgRNA433_2-1-14.tif','_s2',fps=0,disp=3)\n"
   ]
  },
  {
   "cell_type": "code",
   "execution_count": null,
   "metadata": {},
   "outputs": [],
   "source": []
  }
 ],
 "metadata": {
  "kernelspec": {
   "display_name": "Python 3",
   "language": "python",
   "name": "python3"
  },
  "language_info": {
   "codemirror_mode": {
    "name": "ipython",
    "version": 3
   },
   "file_extension": ".py",
   "mimetype": "text/x-python",
   "name": "python",
   "nbconvert_exporter": "python",
   "pygments_lexer": "ipython3",
   "version": "3.7.4"
  }
 },
 "nbformat": 4,
 "nbformat_minor": 2
}
