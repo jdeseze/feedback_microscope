{
 "cells": [
  {
   "cell_type": "code",
   "execution_count": 4,
   "metadata": {
    "scrolled": true
   },
   "outputs": [
    {
     "name": "stdout",
     "output_type": "stream",
     "text": [
      "How long456\n",
      "time 0\n",
      "time 10\n"
     ]
    }
   ],
   "source": [
    "import time\n",
    "\n",
    "a=int(input(\"How long\"))\n",
    "\n",
    "print(\"time 0\")\n",
    "\n",
    "time.sleep(10)\n",
    "\n",
    "print('time 10')\n"
   ]
  },
  {
   "cell_type": "code",
   "execution_count": 27,
   "metadata": {},
   "outputs": [
    {
     "name": "stdout",
     "output_type": "stream",
     "text": [
      "3\n"
     ]
    }
   ],
   "source": [
    "import tkinter as tk\n",
    "import time\n",
    " \n",
    "window = tk.Tk()\n",
    "window.geometry('350x200')\n",
    "window.title(\"Welcome to LikeGeeks app\")\n",
    "\n",
    "\n",
    "lbl = tk.Label(window, text=\"Hello\", font=(\"Arial Bold\", 50))\n",
    "lbl.grid(column=0, row=0)\n",
    "\n",
    "\n",
    "\n",
    "btn = tk.Button(window, text=\"Click Me\", command=clicked, bg=\"orange\", fg=\"red\")\n",
    "btn.grid(column=0, row=1)\n",
    "\n",
    "txt = tk.Entry(window,width=10)\n",
    "txt.grid(column=1,row=1)\n",
    "\n",
    "window.mainloop()\n",
    "\n",
    "def clicked(): \n",
    "    nb=int(txt.get())\n",
    "    time.sleep(nb)\n",
    "    print(nb)\n",
    "    lbl.configure(text=\"Button was clicked !!\")\n",
    "    \n"
   ]
  },
  {
   "cell_type": "code",
   "execution_count": 15,
   "metadata": {},
   "outputs": [
    {
     "data": {
      "text/plain": [
       "3"
      ]
     },
     "execution_count": 15,
     "metadata": {},
     "output_type": "execute_result"
    }
   ],
   "source": [
    "import tkinter as tk\n",
    "\n",
    "class MainApplication(tk.Frame):\n",
    "    def __init__(self, parent, *args, **kwargs):\n",
    "        tk.Frame.__init__(self, parent, *args, **kwargs)\n",
    "        self.parent = parent\n",
    "        \n",
    "if __name__ == \"__main__\":\n",
    "    root = tk.Tk()\n",
    "    MainApplication(root).pack(side=\"top\", fill=\"both\", expand=True)\n",
    "    root.mainloop()"
   ]
  }
 ],
 "metadata": {
  "kernelspec": {
   "display_name": "Python 3",
   "language": "python",
   "name": "python3"
  },
  "language_info": {
   "codemirror_mode": {
    "name": "ipython",
    "version": 3
   },
   "file_extension": ".py",
   "mimetype": "text/x-python",
   "name": "python",
   "nbconvert_exporter": "python",
   "pygments_lexer": "ipython3",
   "version": "3.7.4"
  }
 },
 "nbformat": 4,
 "nbformat_minor": 2
}
